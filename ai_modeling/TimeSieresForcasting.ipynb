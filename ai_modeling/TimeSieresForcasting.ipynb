{
 "cells": [
  {
   "cell_type": "markdown",
   "id": "2d07ef29",
   "metadata": {},
   "source": [
    "Imports\n"
   ]
  },
  {
   "cell_type": "code",
   "execution_count": null,
   "id": "c8bc21ef",
   "metadata": {},
   "outputs": [],
   "source": [
    "import pandas as pd\n",
    "from sklearn.ensemble import RandomForestClassifier\n",
    "from sklearn.preprocessing import LabelEncoder\n",
    "from sklearn.model_selection import train_test_split\n",
    "from sklearn.metrics import classification_report\n",
    "import joblib\n",
    "import os"
   ]
  },
  {
   "cell_type": "markdown",
   "id": "d8185910",
   "metadata": {},
   "source": [
    "Threshols"
   ]
  },
  {
   "cell_type": "code",
   "execution_count": null,
   "id": "cc62aef8",
   "metadata": {},
   "outputs": [],
   "source": [
    "MODEL_TRAIN_THRESHOLD = 1000\n",
    "MODEL_DIR = \"user_models\"\n",
    "os.makedirs(MODEL_DIR, exist_ok=True)"
   ]
  },
  {
   "cell_type": "markdown",
   "id": "225e8acd",
   "metadata": {},
   "source": [
    "Ruel-Based Learning"
   ]
  },
  {
   "cell_type": "code",
   "execution_count": null,
   "id": "c9998d6b",
   "metadata": {},
   "outputs": [],
   "source": [
    "def label_scaling(row):\n",
    "    if row['cpu_usage'] > 85 or row['memory_usage'] > 90:\n",
    "        return \"scale_up\"\n",
    "    elif row['cpu_usage'] < 30 and row['memory_usage'] < 40:\n",
    "        return \"scale_down\"\n",
    "    else:\n",
    "        return \"no_scaling\""
   ]
  }
 ],
 "metadata": {
  "kernelspec": {
   "display_name": "venv",
   "language": "python",
   "name": "python3"
  },
  "language_info": {
   "name": "python",
   "version": "3.12.6"
  }
 },
 "nbformat": 4,
 "nbformat_minor": 5
}
