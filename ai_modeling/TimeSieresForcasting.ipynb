{
 "cells": [
  {
   "cell_type": "markdown",
   "id": "2d07ef29",
   "metadata": {},
   "source": [
    "Imports\n"
   ]
  },
  {
   "cell_type": "code",
   "execution_count": null,
   "id": "c8bc21ef",
   "metadata": {},
   "outputs": [],
   "source": [
    "import pandas as pd\n",
    "from sklearn.ensemble import RandomForestClassifier\n",
    "from sklearn.preprocessing import LabelEncoder\n",
    "from sklearn.model_selection import train_test_split\n",
    "from sklearn.metrics import classification_report\n",
    "import joblib\n",
    "import os"
   ]
  },
  {
   "cell_type": "markdown",
   "id": "d8185910",
   "metadata": {},
   "source": [
    "Threshols"
   ]
  },
  {
   "cell_type": "code",
   "execution_count": null,
   "id": "cc62aef8",
   "metadata": {},
   "outputs": [],
   "source": [
    "MODEL_TRAIN_THRESHOLD = 1000\n",
    "MODEL_DIR = \"user_models\"\n",
    "os.makedirs(MODEL_DIR, exist_ok=True)"
   ]
  },
  {
   "cell_type": "markdown",
   "id": "225e8acd",
   "metadata": {},
   "source": [
    "Ruel-Based Learning"
   ]
  },
  {
   "cell_type": "code",
   "execution_count": null,
   "id": "c9998d6b",
   "metadata": {},
   "outputs": [],
   "source": [
    "def label_scaling(row):\n",
    "    if row['cpu_usage'] > 85 or row['memory_usage'] > 90:\n",
    "        return \"scale_up\"\n",
    "    elif row['cpu_usage'] < 30 and row['memory_usage'] < 40:\n",
    "        return \"scale_down\"\n",
    "    else:\n",
    "        return \"no_scaling\""
   ]
  },
  {
   "cell_type": "markdown",
   "id": "4a1494d2",
   "metadata": {},
   "source": [
    "Model Trainning"
   ]
  },
  {
   "cell_type": "code",
   "execution_count": null,
   "id": "72749a95",
   "metadata": {},
   "outputs": [],
   "source": [
    "def train_user_model(user_df, user_id):\n",
    "    # Label encoding\n",
    "    le = LabelEncoder()\n",
    "    user_df['scaling_action_encoded'] = le.fit_transform(user_df['scaling_action'])\n",
    "\n",
    "    # Train/test split (chronological)\n",
    "    X = user_df[['cpu_usage', 'memory_usage', 'disk_usage', 'network_usage']]\n",
    "    y = user_df['scaling_action_encoded']\n",
    "    X_train, X_test, y_train, y_test = train_test_split(X, y, shuffle=False)\n",
    "\n",
    "    # Train model\n",
    "    model = RandomForestClassifier()\n",
    "    model.fit(X_train, y_train)\n",
    "\n",
    "    # Save model and label encoder\n",
    "    joblib.dump((model, le), f\"{MODEL_DIR}/model_user_{user_id}.pkl\")\n",
    "    print(f\"[INFO] Model saved for user {user_id}\")"
   ]
  },
  {
   "cell_type": "markdown",
   "id": "c71ed459",
   "metadata": {},
   "source": [
    "Prediction logic"
   ]
  },
  {
   "cell_type": "code",
   "execution_count": null,
   "id": "059d0e4e",
   "metadata": {},
   "outputs": [],
   "source": [
    "def train_user_model(user_df, user_id):\n",
    "    # Label encoding\n",
    "    le = LabelEncoder()\n",
    "    user_df['scaling_action_encoded'] = le.fit_transform(user_df['scaling_action'])\n",
    "\n",
    "    # Train/test split (chronological)\n",
    "    X = user_df[['cpu_usage', 'memory_usage', 'disk_usage', 'network_usage']]\n",
    "    y = user_df['scaling_action_encoded']\n",
    "    X_train, X_test, y_train, y_test = train_test_split(X, y, shuffle=False)\n",
    "\n",
    "    # Train model\n",
    "    model = RandomForestClassifier()\n",
    "    model.fit(X_train, y_train)\n",
    "\n",
    "    # Save model and label encoder\n",
    "    joblib.dump((model, le), f\"{MODEL_DIR}/model_user_{user_id}.pkl\")\n",
    "    print(f\"[INFO] Model saved for user {user_id}\")"
   ]
  }
 ],
 "metadata": {
  "kernelspec": {
   "display_name": "venv",
   "language": "python",
   "name": "python3"
  },
  "language_info": {
   "name": "python",
   "version": "3.12.6"
  }
 },
 "nbformat": 4,
 "nbformat_minor": 5
}
